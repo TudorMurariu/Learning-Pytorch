{
 "cells": [
  {
   "cell_type": "markdown",
   "id": "80768666",
   "metadata": {},
   "source": [
    "# PyTorch Neural Network Classification"
   ]
  },
  {
   "cell_type": "markdown",
   "id": "6ef55f63",
   "metadata": {},
   "source": [
    "### Make classification data and get it ready"
   ]
  },
  {
   "cell_type": "code",
   "execution_count": 1,
   "id": "4091e503",
   "metadata": {},
   "outputs": [],
   "source": [
    "from sklearn.datasets import make_circles\n",
    "\n",
    "n_samples = 1000\n",
    "\n",
    "X, y = make_circles(n_samples,\n",
    "                    noise=0.03, # a little bit of noise to the dots\n",
    "                    random_state=42) # keep random state so we get the same values"
   ]
  }
 ],
 "metadata": {
  "kernelspec": {
   "display_name": "Python 3",
   "language": "python",
   "name": "python3"
  },
  "language_info": {
   "codemirror_mode": {
    "name": "ipython",
    "version": 3
   },
   "file_extension": ".py",
   "mimetype": "text/x-python",
   "name": "python",
   "nbconvert_exporter": "python",
   "pygments_lexer": "ipython3",
   "version": "3.9.0"
  }
 },
 "nbformat": 4,
 "nbformat_minor": 5
}
